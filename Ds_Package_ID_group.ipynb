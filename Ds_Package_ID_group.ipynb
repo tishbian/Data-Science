{
  "nbformat": 4,
  "nbformat_minor": 0,
  "metadata": {
    "colab": {
      "provenance": [],
      "authorship_tag": "ABX9TyN9/zELw0pRcj/zxcstKE97",
      "include_colab_link": true
    },
    "kernelspec": {
      "name": "python3",
      "display_name": "Python 3"
    },
    "language_info": {
      "name": "python"
    }
  },
  "cells": [
    {
      "cell_type": "markdown",
      "metadata": {
        "id": "view-in-github",
        "colab_type": "text"
      },
      "source": [
        "<a href=\"https://colab.research.google.com/github/tishbian/Data-Science/blob/main/Ds_Package_ID_group.ipynb\" target=\"_parent\"><img src=\"https://colab.research.google.com/assets/colab-badge.svg\" alt=\"Open In Colab\"/></a>"
      ]
    },
    {
      "cell_type": "code",
      "execution_count": null,
      "metadata": {
        "colab": {
          "base_uri": "https://localhost:8080/"
        },
        "id": "m1IpVY25-SEM",
        "outputId": "b15627a7-3f4a-4866-86f3-6f8a12118268"
      },
      "outputs": [
        {
          "output_type": "stream",
          "name": "stdout",
          "text": [
            "Mounted at /content/drive\n"
          ]
        }
      ],
      "source": [
        "from google.colab import drive\n",
        "drive.mount('/content/drive')"
      ]
    },
    {
      "cell_type": "code",
      "source": [
        "import pandas as pd\n",
        "\n",
        "data = pd.read_excel('/content/drive/MyDrive/Package-Data-task.xlsx')\n",
        "df = pd.DataFrame(data)\n",
        "print(df.to_string())"
      ],
      "metadata": {
        "colab": {
          "base_uri": "https://localhost:8080/"
        },
        "id": "-mrj2D-tCDNS",
        "outputId": "b1c26a6f-edbc-4506-f361-e9412330225a"
      },
      "execution_count": null,
      "outputs": [
        {
          "output_type": "stream",
          "name": "stdout",
          "text": [
            "              Hotel ID          Type  Location Destination                    Property                                                          Room Category  CUR  Totel Rooms       CP 2N \\nHONEYMOON PACKAGE IDR  IDR to INR (CP) - 1 Night 2N  - Honeymoon Package to INR      2N Cost  Unique Room ID     Package ID-1  SN-01     Package ID-2  SN-02  Unnamed: 18  Room Primary Primary Meal  PKH - O3  PKH - O4  Package Title Tariff Start Date - 1 Tariff End Date - 1  Tariff Start Date - 2  Tariff End Date - 2  Tariff Start Date - 3  Tariff End Date - 3\n",
            "0   I-BAL-UBUD-AKS-001  International     Bali        Ubud          Aksari Resort Ubud                   Royal One Bedroom River View Villa with Private Pool  IDR          2.0  3200000                   11800000               16765.716280                    61823.57876  33531.43255           24890  BA-HO-12-NO-002      2              NaN      3          NaN           0.0           CP       NaN       NaN            NaN                     `          2023-12-20                    NaN                  NaN                    NaN                  NaN\n",
            "1   I-BAL-UBUD-AKS-001  International     Bali        Ubud          Aksari Resort Ubud                              Royal One Bedroom Villa with Private Pool  IDR          4.0  3200010                   10800000               16765.768670                    56584.29243  33531.53734           24891  BA-HO-12-NO-003      3              NaN      3          NaN           1.0           CP       NaN       NaN            NaN   2023-09-16 00:00:00          2023-12-20                    NaN                  NaN                    NaN                  NaN\n",
            "2   I-BAL-UBUD-AKS-001  International     Bali        Ubud          Aksari Resort Ubud                                    One Bedroom Villa with Private Pool  IDR          1.0  3200020                   10800000               16765.821060                    56584.29243  33531.64212           24892  BA-HO-12-NO-004      2              NaN      2          NaN           0.0           CP       NaN       NaN            NaN   2023-09-16 00:00:00          2023-12-20                    NaN                  NaN                    NaN                  NaN\n",
            "3   I-BAL-UBUD-AKS-001  International     Bali        Ubud          Aksari Resort Ubud                              Royal Two Bedroom Villa with Private Pool  IDR          1.0  3200030              Not Available               16765.873450                        #VALUE!  33531.74691           24893  BA-HO-12-NO-005      2              NaN      2          NaN           0.0           CP       NaN       NaN            NaN   2023-09-16 00:00:00          2023-12-20                    NaN                  NaN                    NaN                  NaN\n",
            "4   I-BAL-UBUD-AKS-001  International     Bali        Ubud          Aksari Resort Ubud                                                           Aksari Suite  IDR          8.0  3200040              Not Available               16765.925850                        #VALUE!  33531.85169           24894  BA-HO-12-NO-006      3              NaN      2          NaN           1.0           CP       NaN       NaN            NaN   2023-09-16 00:00:00          2023-12-20                    NaN                  NaN                    NaN                  NaN\n",
            "5   I-BAL-UBUD-AKS-001  International     Bali        Ubud          Aksari Resort Ubud                                               Suite Double Forest View  IDR         10.0  3200050              Not Available               16765.978240                        #VALUE!  33531.95648           24895  BA-HO-12-NO-007      5              NaN      2          NaN           0.0           CP       NaN       NaN            NaN   2023-09-16 00:00:00          2023-12-20                    NaN                  NaN                    NaN                  NaN\n",
            "6   I-BAL-UBUD-AKS-001  International     Bali        Ubud          Aksari Resort Ubud                                                 Suite Twin Forest View  IDR          4.0  3200060              Not Available               16766.030630                        #VALUE!  33532.06126           24896  BA-HO-12-NO-008      4              NaN      0          NaN           0.0           CP       NaN       NaN            NaN   2023-09-16 00:00:00          2023-12-20                    NaN                  NaN                    NaN                  NaN\n",
            "7   I-BAL-UBUD-KAA-002  International     Bali        Ubud         Kaamala Resort Ubud               Royal One Bedroom Ricefield View Villa with Private Pool  IDR          9.0  3200070                    8800000               16766.083030                    46105.71976  33532.16605           24897  BA-HO-12-NO-002      2              NaN      0          NaN           0.0           CP       NaN       NaN            NaN   2023-09-16 00:00:00          2023-12-20                    NaN                  NaN                    NaN                  NaN\n",
            "8   I-BAL-UBUD-KAA-002  International     Bali        Ubud         Kaamala Resort Ubud                                    One Bedroom Villa with Private Pool  IDR          4.0  3200080                    8200000               16766.135420                    42962.14796  33532.27084           24898  BA-HO-12-NO-009      2              NaN      0          NaN           1.0           CP       NaN       NaN            NaN   2023-09-16 00:00:00          2023-12-20                    NaN                  NaN                    NaN                  NaN\n",
            "9   I-BAL-UBUD-KAA-002  International     Bali        Ubud         Kaamala Resort Ubud               Royal Two Bedroom Ricefield View Villa with Private Pool  IDR          3.0  3200090              Not Available               16766.187810                        #VALUE!  33532.37562           24899  BA-HO-12-NO-010      2              NaN      0          NaN           0.0           CP       NaN       NaN            NaN   2023-09-16 00:00:00          2023-12-20                    NaN                  NaN                    NaN                  NaN\n",
            "10  I-BAL-UBUD-KAA-002  International     Bali        Ubud         Kaamala Resort Ubud                                                      Suite Forest View  IDR         12.0  3200100              Not Available               16766.240200                        #VALUE!  33532.48041           24900  BA-HO-12-NO-011      3              NaN      0          NaN           0.0           CP       NaN       NaN            NaN   2023-09-16 00:00:00          2023-12-20                    NaN                  NaN                    NaN                  NaN\n",
            "11  I-BAL-UBUD-ASV-003  International     Bali        Ubud           Asvara Villa Ubud                  Royal One Bedroom Villa with Private Pool and Jacuzzi  IDR         21.0  3200110                    5400000               16766.292600                    28292.14621  33532.58519           24901  BA-HO-12-NO-001      2  BA-HO-12-NO-043      2          NaN           1.0           CP       NaN       NaN            NaN   2023-09-16 00:00:00          2023-12-20                    NaN                  NaN                    NaN                  NaN\n",
            "12  I-BAL-UBUD-ASV-003  International     Bali        Ubud           Asvara Villa Ubud  Royal One Bedroom Rice field View Villa with Private Pool and Jacuzzi  IDR          5.0  3200120                    5800000               16766.344990                    30387.86075  33532.68998           24902  BA-HO-12-NO-012      2              NaN      0          NaN           0.0           CP       NaN       NaN            NaN   2023-09-16 00:00:00          2023-12-20                    NaN                  NaN                    NaN                  NaN\n",
            "13  I-BAL-UBUD-ASV-003  International     Bali        Ubud           Asvara Villa Ubud                  Royal Two Bedroom Villa with Private Pool and Jacuzzi  IDR          1.0  3200130              Not Available               16766.397380                        #VALUE!  33532.79476           24903  BA-HO-12-NO-007      1              NaN      0          NaN           0.0           CP       NaN       NaN            NaN   2023-09-16 00:00:00          2023-12-20                    NaN                  NaN                    NaN                  NaN\n",
            "14  I-BAL-UBUD-DED-004  International     Bali        Ubud          Dedary Resort Ubud                        One Bedroom Villa with Private Pool and Bathtub  IDR          5.0  3200140                    5000000               16766.449780                    26196.43168  33532.89955           24904  BA-HO-12-NO-009      3              NaN      0          NaN           1.0           CP       NaN       NaN            NaN   2023-09-16 00:00:00          2023-12-20                    NaN                  NaN                    NaN                  NaN\n",
            "15  I-BAL-UBUD-DED-004  International     Bali        Ubud          Dedary Resort Ubud            One Bedroom Garden View Villa with Private Pool and Bathtub  IDR          4.0  3200150                    5200000               16766.502170                    27244.28895  33533.00434           24905  BA-HO-12-NO-008      3              NaN      0          NaN           0.0           CP       NaN       NaN            NaN   2023-09-16 00:00:00          2023-12-20                    NaN                  NaN                    NaN                  NaN\n",
            "16  I-BAL-UBUD-DED-004  International     Bali        Ubud          Dedary Resort Ubud            One Bedroom Forest View Villa with Private Pool and Bathtub  IDR          2.0  3200160                    5600000               16766.554560                    29340.00348  33533.10912           24906  BA-HO-12-NO-004      2              NaN      0          NaN           0.0           CP       NaN       NaN            NaN   2023-09-16 00:00:00          2023-12-20                    NaN                  NaN                    NaN                  NaN\n",
            "17  I-BAL-UBUD-DED-004  International     Bali        Ubud          Dedary Resort Ubud                        Two Bedroom Villa with Private Pool and Bathtub  IDR          3.0  3200170              Not Available               16766.606950                        #VALUE!  33533.21391           24907  BA-HO-12-NO-003      2              NaN      0          NaN           0.0           CP       NaN       NaN            NaN   2023-09-16 00:00:00          2023-12-20                    NaN                  NaN                    NaN                  NaN\n",
            "18  I-BAL-UBUD-DED-004  International     Bali        Ubud          Dedary Resort Ubud            Two Bedroom Forest View Villa with Private Pool and Bathtub  IDR          2.0  3200180              Not Available               16766.659350                        #VALUE!  33533.31869           24908  BA-HO-12-NO-005      3              NaN      0          NaN           0.0           CP       NaN       NaN            NaN   2023-09-16 00:00:00          2023-12-20                    NaN                  NaN                    NaN                  NaN\n",
            "19  I-BAL-UBUD-AMA-005  International     Bali        Ubud          Amarea Resort Ubud                                                              Ubud Room  IDR          6.0  3200190              Not Available               16766.711740                        #VALUE!  33533.42348           24909  BA-HO-12-NO-003      3              NaN      0          NaN           0.0           CP       NaN       NaN            NaN   2023-09-16 00:00:00          2023-12-20                    NaN                  NaN                    NaN                  NaN\n",
            "20  I-BAL-UBUD-AMA-005  International     Bali        Ubud          Amarea Resort Ubud                                                Ubud Suite with Bathtub  IDR          4.0  3200200              Not Available               16766.764130                        #VALUE!  33533.52826           24910  BA-HO-12-NO-006      3              NaN      0          NaN           1.0           CP       NaN       NaN            NaN   2023-09-16 00:00:00          2023-12-20                    NaN                  NaN                    NaN                  NaN\n",
            "21  I-BAL-UBUD-AMA-005  International     Bali        Ubud          Amarea Resort Ubud                                              Ubud Cottage with Bathtub  IDR          4.0  3200210              Not Available               16766.816530                        #VALUE!  33533.63305           24911  BA-HO-12-NO-010      2              NaN      0          NaN           0.0           CP       NaN       NaN            NaN   2023-09-16 00:00:00          2023-12-20                    NaN                  NaN                    NaN                  NaN\n",
            "22  I-BAL-UBUD-AMA-005  International     Bali        Ubud          Amarea Resort Ubud                 Smart One Bedroom Villa with  Private Pool and Bathtub  IDR          5.0  3200220                    5800000               16766.868920                    30387.86075  33533.73784           24912  BA-HO-12-NO-012      2              NaN      0          NaN           0.0           CP       NaN       NaN            NaN   2023-09-16 00:00:00          2023-12-20                    NaN                  NaN                    NaN                  NaN\n",
            "23  I-BAL-UBUD-AMA-005  International     Bali        Ubud          Amarea Resort Ubud                        Two Bedroom Villa with Private Pool and Bathtub  IDR          NaN  3200230              Not Available               16766.921310                        #VALUE!  33533.84262           24913  BA-HO-12-NO-013      3              NaN      0          NaN           0.0           CP       NaN       NaN            NaN   2023-09-16 00:00:00          2023-12-20                    NaN                  NaN                    NaN                  NaN\n",
            "24  I-BAL-UBUD-AMA-005  International     Bali        Ubud          Amarea Resort Ubud                        Two Bedroom Villa with Private Pool and Bathtub  IDR          1.0  3200240              Not Available               16766.973700                        #VALUE!  33533.94741           24914  BA-HO-12-NO-014      2              NaN      0          NaN           0.0           CP       NaN       NaN            NaN   2023-09-16 00:00:00          2023-12-20                    NaN                  NaN                    NaN                  NaN\n",
            "25  I-BAL-UBUD-SUA-006  International     Bali        Ubud             Suara Alam Ubud                                                           Paddies Room  IDR          7.0  3200250              Not Available               16767.026100                        #VALUE!  33534.05219           24915  BA-HO-12-NO-015      2              NaN      0          NaN           1.0           CP       NaN       NaN            NaN   2023-09-16 00:00:00          2023-12-20                    NaN                  NaN                    NaN                  NaN\n",
            "26  I-BAL-UBUD-SUA-006  International     Bali        Ubud             Suara Alam Ubud                                                              Ubud Room  IDR          2.0  3200260              Not Available               16767.078490                        #VALUE!  33534.15698           24916  BA-HO-12-NO-016      3              NaN      0          NaN           0.0           CP       NaN       NaN            NaN   2023-09-16 00:00:00          2023-12-20                    NaN                  NaN                    NaN                  NaN\n",
            "27  I-BAL-UBUD-SUA-006  International     Bali        Ubud             Suara Alam Ubud                                                            Jungle Room  IDR          2.0  3200270              Not Available               16767.130880                        #VALUE!  33534.26177           24917  BA-HO-12-NO-011      3              NaN      0          NaN           0.0           CP       NaN       NaN            NaN   2023-09-16 00:00:00          2023-12-20                    NaN                  NaN                    NaN                  NaN\n",
            "28  I-BAL-SEMI-SIN-007  International     Bali    Seminyak              Sini Vie Villa                  Smart One Bedroom Villa with Private Pool and Jacuzzi  IDR         16.0  3200280                    6000000               16767.183280                    31435.71802  33534.36655           24918  BA-HO-12-NO-014      2              NaN      0          NaN           1.0           CP       NaN       NaN            NaN   2023-09-16 00:00:00          2023-12-20                    NaN                  NaN                    NaN                  NaN\n",
            "29  I-BAL-SEMI-MON-008  International     Bali    Seminyak  Monolocale Resort Seminyak                              Royal One Bedroom Villa with Private Pool  IDR          1.0  3200290                    5700000               16767.235670                    29863.93212  33534.47134           24919  BA-HO-12-NO-013      2              NaN      0          NaN           1.0           CP       NaN       NaN            NaN   2023-09-16 00:00:00          2023-12-20                    NaN                  NaN                    NaN                  NaN\n",
            "30  I-BAL-SEMI-MON-008  International     Bali    Seminyak  Monolocale Resort Seminyak                                    One Bedroom Villa with Private Pool  IDR         16.0  3200300                    5700000               16767.288060                    29863.93212  33534.57612           24920  BA-HO-12-NO-010      2              NaN      0          NaN           0.0           CP       NaN       NaN            NaN   2023-09-16 00:00:00          2023-12-20                    NaN                  NaN                    NaN                  NaN\n",
            "31  I-BAL-SEMI-MON-008  International     Bali    Seminyak  Monolocale Resort Seminyak                                                  Seminyak Suite Double  IDR          4.0  3200310              Not Available               16767.340450                        #VALUE!  33534.68091           24921  BA-HO-12-NO-011      1              NaN      0          NaN           0.0           CP       NaN       NaN            NaN   2023-09-16 00:00:00          2023-12-20                    NaN                  NaN                    NaN                  NaN\n",
            "32  I-BAL-SEMI-MON-008  International     Bali    Seminyak  Monolocale Resort Seminyak                                                    Seminyak Suite Twin  IDR          2.0  3200320              Not Available               16767.392850                        #VALUE!  33534.78569           24922  BA-HO-12-NO-012      2              NaN      0          NaN           0.0           CP       NaN       NaN            NaN   2023-09-16 00:00:00          2023-12-20                    NaN                  NaN                    NaN                  NaN\n",
            "33  I-BAL-SEMI-AKS-009  International     Bali    Seminyak             Aksari Seminyak                        One Bedroom Villa with Private Pool and Bathtub  IDR         14.0  3200330                    5700000               16767.445240                    29863.93212  33534.89048           24923  BA-HO-12-NO-003      3              NaN      0          NaN           1.0           CP       NaN       NaN            NaN   2023-09-16 00:00:00          2023-12-20                    NaN                  NaN                    NaN                  NaN\n",
            "34  I-BAL-SEMI-AST-010  International     Bali    Seminyak             Astera Seminyak                        One Bedroom Villa with Private Pool and Bathtub  IDR         12.0  3200340                    5700000               16767.497630                    29863.93212  33534.99527           24924  BA-HO-12-NO-004      1              NaN      0          NaN           1.0           CP       NaN       NaN            NaN   2023-09-16 00:00:00          2023-12-20                    NaN                  NaN                    NaN                  NaN\n",
            "35  I-BAL-SEMI-SAN-011  International     Bali    Seminyak              Sana Vie Villa                  Smart One Bedroom Villa with Private Pool and Bathtub  IDR          7.0  3200350                    5700000               16767.550030                    29863.93212  33535.10005           24925  BA-HO-12-NO-004      2              NaN      0          NaN           0.0           CP       NaN       NaN            NaN   2023-09-16 00:00:00          2023-12-20                    NaN                  NaN                    NaN                  NaN\n",
            "36  I-BAL-SEMI-SAN-011  International     Bali    Seminyak              Sana Vie Villa                        Two Bedroom Villa with Private Pool and Bathtub  IDR          2.0  3200360              Not Available               16767.602420                        #VALUE!  33535.20484           24926  BA-HO-12-NO-013      1              NaN      0          NaN           0.0           CP       NaN       NaN            NaN   2023-09-16 00:00:00          2023-12-20                    NaN                  NaN                    NaN                  NaN\n",
            "37  I-BAL-SEMI-ALE-012  International     Bali    Seminyak                 Aleva Villa                        One Bedroom Villa with Private Pool and Bathtub  IDR          8.0  3200370                    5700000               16767.654810                    29863.93212  33535.30962           24927  BA-HO-12-NO-014      2              NaN      0          NaN           1.0           CP       NaN       NaN            NaN   2023-09-16 00:00:00          2023-12-20                    NaN                  NaN                    NaN                  NaN\n",
            "38  I-BAL-SEMI-AYO-013  International     Bali    Seminyak                 Ayona Villa                        One Bedroom Villa with Private Pool and Bathtub  IDR          6.0  3200380                    6000000               16767.707200                    31435.71802  33535.41441           24928  BA-HO-12-NO-015      2              NaN      0          NaN           1.0           CP       NaN       NaN            NaN   2023-09-16 00:00:00          2023-12-20                    NaN                  NaN                    NaN                  NaN\n",
            "39  I-BAL-SEMI-CYR-014  International     Bali    Seminyak                 Cyrus Villa                        One Bedroom Villa with Private Pool and Bathtub  IDR         10.0  3200390                    6000000               16767.759600                    31435.71802  33535.51919           24929  BA-HO-12-NO-016      2              NaN      0          NaN           1.0           CP       NaN       NaN            NaN   2023-09-16 00:00:00          2023-12-20                    NaN                  NaN                    NaN                  NaN\n",
            "40  I-BAL-KUTA-RAM-015  International     Bali        Kuta  Rama Beach Resort & Villas                                                                 Deluxe  NaN          NaN   950000                        NaN                4977.322019                              0          NaN           24930  BA-HO-12-NO-001      3  BA-HO-12-NO-043      4          NaN           NaN          MAP       NaN       NaN            NaN                   NaN                 NaT                    NaN                  NaN                    NaN                  NaN\n"
          ]
        }
      ]
    },
    {
      "cell_type": "code",
      "source": [
        "import pandas as pd\n",
        "\n",
        "# Read the data from the Excel file containing both tourist packages and hotel information\n",
        "input_file = '/content/drive/MyDrive/Package-Data-task.xlsx'\n",
        "df = pd.read_excel(input_file)\n",
        "\n",
        "# Create a dictionary to store unique package IDs and their associated hotel details\n",
        "package_hotels = {}\n",
        "\n",
        "for _, row in df.iterrows():\n",
        "    package_id = row['Package ID-1']\n",
        "    hotel_info = {\n",
        "        'hotel id': row['Hotel ID'],\n",
        "        'no of nights': row['SN-01'],\n",
        "        'hotel name': row['Property'],\n",
        "        'room category': row['Room Category'],\n",
        "        'price per night': row['IDR to INR (CP) - 1 Night']\n",
        "    }\n",
        "\n",
        "    if package_id in package_hotels:\n",
        "        package_hotels[package_id].append(hotel_info)\n",
        "    else:\n",
        "        package_hotels[package_id] = [hotel_info]\n",
        "\n",
        "# Create a list of unique package IDs and their associated hotel details\n",
        "unique_packages_data = []\n",
        "\n",
        "for package_id, hotels in package_hotels.items():\n",
        "    package_data = {\n",
        "        'package id': package_id,\n",
        "        'location': df.loc[df['Package ID-1'] == package_id, 'Location'].values[0],\n",
        "        'destination': df.loc[df['Package ID-1'] == package_id, 'Destination'].values[0],\n",
        "        'theme': \"Honeymoon\",  # Assuming \"Honeymoon\" for all themes within a group\n",
        "    }\n",
        "\n",
        "    for i, hotel_info in enumerate(hotels, start=1):\n",
        "        package_data.update({\n",
        "            f'hotel id {i}': hotel_info['hotel id'],\n",
        "            f'no of nights {i}': hotel_info['no of nights'],\n",
        "            f'hotel name {i}': hotel_info['hotel name'],\n",
        "            f'room category {i}': hotel_info['room category'],\n",
        "            f'price per night {i}': hotel_info['price per night']\n",
        "        })\n",
        "\n",
        "    unique_packages_data.append(package_data)\n",
        "\n",
        "# Create a DataFrame with the unique package IDs and hotel details\n",
        "unique_packages_df = pd.DataFrame(unique_packages_data)\n",
        "\n",
        "# Save the grouped data to a new Excel file\n",
        "output_file = '/content/drive/MyDrive/Untitled spreadsheet.xlsx'\n",
        "unique_packages_df.to_excel(output_file, index=False)\n",
        "\n",
        "print(f\"Unique package IDs with associated hotel details have been saved to '{output_file}'\")"
      ],
      "metadata": {
        "colab": {
          "base_uri": "https://localhost:8080/"
        },
        "id": "J0YktlOBGk6n",
        "outputId": "d319de4a-a7b4-43dd-9f32-4eec94d333da"
      },
      "execution_count": null,
      "outputs": [
        {
          "output_type": "stream",
          "name": "stdout",
          "text": [
            "Unique package IDs with associated hotel details have been saved to '/content/drive/MyDrive/Untitled spreadsheet.xlsx'\n"
          ]
        }
      ]
    },
    {
      "cell_type": "code",
      "source": [
        "\n",
        "#to show the output file\n",
        "data = pd.read_excel('/content/drive/MyDrive/Untitled spreadsheet.xlsx')\n",
        "df = pd.DataFrame(data)\n",
        "print(df.to_string())"
      ],
      "metadata": {
        "colab": {
          "base_uri": "https://localhost:8080/"
        },
        "id": "5GwnDjC7YJOE",
        "outputId": "8fc7ae33-206d-46e9-ca95-bb9854e8b86d"
      },
      "execution_count": null,
      "outputs": [
        {
          "output_type": "stream",
          "name": "stdout",
          "text": [
            "         package id location destination      theme          hotel id 1  no of nights 1         hotel name 1                                                        room category 1  price per night 1          hotel id 2  no of nights 2                hotel name 2                                              room category 2  price per night 2          hotel id 3  no of nights 3                hotel name 3                                  room category 3  price per night 3          hotel id 4  no of nights 4     hotel name 4                                        room category 4  price per night 4\n",
            "0   BA-HO-12-NO-002     Bali        Ubud  Honeymoon  I-BAL-UBUD-AKS-001               2   Aksari Resort Ubud                   Royal One Bedroom River View Villa with Private Pool        16765.71628  I-BAL-UBUD-KAA-002               2         Kaamala Resort Ubud     Royal One Bedroom Ricefield View Villa with Private Pool       16766.083030                 NaN             NaN                         NaN                                              NaN                NaN                 NaN             NaN              NaN                                                    NaN                NaN\n",
            "1   BA-HO-12-NO-003     Bali        Ubud  Honeymoon  I-BAL-UBUD-AKS-001               3   Aksari Resort Ubud                              Royal One Bedroom Villa with Private Pool        16765.76867  I-BAL-UBUD-DED-004               2          Dedary Resort Ubud              Two Bedroom Villa with Private Pool and Bathtub       16766.606950  I-BAL-UBUD-AMA-005             3.0          Amarea Resort Ubud                                        Ubud Room        16766.71174  I-BAL-SEMI-AKS-009             3.0  Aksari Seminyak        One Bedroom Villa with Private Pool and Bathtub        16767.44524\n",
            "2   BA-HO-12-NO-004     Bali        Ubud  Honeymoon  I-BAL-UBUD-AKS-001               2   Aksari Resort Ubud                                    One Bedroom Villa with Private Pool        16765.82106  I-BAL-UBUD-DED-004               2          Dedary Resort Ubud  One Bedroom Forest View Villa with Private Pool and Bathtub       16766.554560  I-BAL-SEMI-AST-010             1.0             Astera Seminyak  One Bedroom Villa with Private Pool and Bathtub        16767.49763  I-BAL-SEMI-SAN-011             2.0   Sana Vie Villa  Smart One Bedroom Villa with Private Pool and Bathtub        16767.55003\n",
            "3   BA-HO-12-NO-005     Bali        Ubud  Honeymoon  I-BAL-UBUD-AKS-001               2   Aksari Resort Ubud                              Royal Two Bedroom Villa with Private Pool        16765.87345  I-BAL-UBUD-DED-004               3          Dedary Resort Ubud  Two Bedroom Forest View Villa with Private Pool and Bathtub       16766.659350                 NaN             NaN                         NaN                                              NaN                NaN                 NaN             NaN              NaN                                                    NaN                NaN\n",
            "4   BA-HO-12-NO-006     Bali        Ubud  Honeymoon  I-BAL-UBUD-AKS-001               3   Aksari Resort Ubud                                                           Aksari Suite        16765.92585  I-BAL-UBUD-AMA-005               3          Amarea Resort Ubud                                      Ubud Suite with Bathtub       16766.764130                 NaN             NaN                         NaN                                              NaN                NaN                 NaN             NaN              NaN                                                    NaN                NaN\n",
            "5   BA-HO-12-NO-007     Bali        Ubud  Honeymoon  I-BAL-UBUD-AKS-001               5   Aksari Resort Ubud                                               Suite Double Forest View        16765.97824  I-BAL-UBUD-ASV-003               1           Asvara Villa Ubud        Royal Two Bedroom Villa with Private Pool and Jacuzzi       16766.397380                 NaN             NaN                         NaN                                              NaN                NaN                 NaN             NaN              NaN                                                    NaN                NaN\n",
            "6   BA-HO-12-NO-008     Bali        Ubud  Honeymoon  I-BAL-UBUD-AKS-001               4   Aksari Resort Ubud                                                 Suite Twin Forest View        16766.03063  I-BAL-UBUD-DED-004               3          Dedary Resort Ubud  One Bedroom Garden View Villa with Private Pool and Bathtub       16766.502170                 NaN             NaN                         NaN                                              NaN                NaN                 NaN             NaN              NaN                                                    NaN                NaN\n",
            "7   BA-HO-12-NO-009     Bali        Ubud  Honeymoon  I-BAL-UBUD-KAA-002               2  Kaamala Resort Ubud                                    One Bedroom Villa with Private Pool        16766.13542  I-BAL-UBUD-DED-004               3          Dedary Resort Ubud              One Bedroom Villa with Private Pool and Bathtub       16766.449780                 NaN             NaN                         NaN                                              NaN                NaN                 NaN             NaN              NaN                                                    NaN                NaN\n",
            "8   BA-HO-12-NO-010     Bali        Ubud  Honeymoon  I-BAL-UBUD-KAA-002               2  Kaamala Resort Ubud               Royal Two Bedroom Ricefield View Villa with Private Pool        16766.18781  I-BAL-UBUD-AMA-005               2          Amarea Resort Ubud                                    Ubud Cottage with Bathtub       16766.816530  I-BAL-SEMI-MON-008             2.0  Monolocale Resort Seminyak              One Bedroom Villa with Private Pool        16767.28806                 NaN             NaN              NaN                                                    NaN                NaN\n",
            "9   BA-HO-12-NO-011     Bali        Ubud  Honeymoon  I-BAL-UBUD-KAA-002               3  Kaamala Resort Ubud                                                      Suite Forest View        16766.24020  I-BAL-UBUD-SUA-006               3             Suara Alam Ubud                                                  Jungle Room       16767.130880  I-BAL-SEMI-MON-008             1.0  Monolocale Resort Seminyak                            Seminyak Suite Double        16767.34045                 NaN             NaN              NaN                                                    NaN                NaN\n",
            "10  BA-HO-12-NO-001     Bali        Ubud  Honeymoon  I-BAL-UBUD-ASV-003               2    Asvara Villa Ubud                  Royal One Bedroom Villa with Private Pool and Jacuzzi        16766.29260  I-BAL-KUTA-RAM-015               3  Rama Beach Resort & Villas                                                       Deluxe        4977.322019                 NaN             NaN                         NaN                                              NaN                NaN                 NaN             NaN              NaN                                                    NaN                NaN\n",
            "11  BA-HO-12-NO-012     Bali        Ubud  Honeymoon  I-BAL-UBUD-ASV-003               2    Asvara Villa Ubud  Royal One Bedroom Rice field View Villa with Private Pool and Jacuzzi        16766.34499  I-BAL-UBUD-AMA-005               2          Amarea Resort Ubud       Smart One Bedroom Villa with  Private Pool and Bathtub       16766.868920  I-BAL-SEMI-MON-008             2.0  Monolocale Resort Seminyak                              Seminyak Suite Twin        16767.39285                 NaN             NaN              NaN                                                    NaN                NaN\n",
            "12  BA-HO-12-NO-013     Bali        Ubud  Honeymoon  I-BAL-UBUD-AMA-005               3   Amarea Resort Ubud                        Two Bedroom Villa with Private Pool and Bathtub        16766.92131  I-BAL-SEMI-MON-008               2  Monolocale Resort Seminyak                    Royal One Bedroom Villa with Private Pool       16767.235670  I-BAL-SEMI-SAN-011             1.0              Sana Vie Villa  Two Bedroom Villa with Private Pool and Bathtub        16767.60242                 NaN             NaN              NaN                                                    NaN                NaN\n",
            "13  BA-HO-12-NO-014     Bali        Ubud  Honeymoon  I-BAL-UBUD-AMA-005               2   Amarea Resort Ubud                        Two Bedroom Villa with Private Pool and Bathtub        16766.97370  I-BAL-SEMI-SIN-007               2              Sini Vie Villa        Smart One Bedroom Villa with Private Pool and Jacuzzi       16767.183280  I-BAL-SEMI-ALE-012             2.0                 Aleva Villa  One Bedroom Villa with Private Pool and Bathtub        16767.65481                 NaN             NaN              NaN                                                    NaN                NaN\n",
            "14  BA-HO-12-NO-015     Bali        Ubud  Honeymoon  I-BAL-UBUD-SUA-006               2      Suara Alam Ubud                                                           Paddies Room        16767.02610  I-BAL-SEMI-AYO-013               2                 Ayona Villa              One Bedroom Villa with Private Pool and Bathtub       16767.707200                 NaN             NaN                         NaN                                              NaN                NaN                 NaN             NaN              NaN                                                    NaN                NaN\n",
            "15  BA-HO-12-NO-016     Bali        Ubud  Honeymoon  I-BAL-UBUD-SUA-006               3      Suara Alam Ubud                                                              Ubud Room        16767.07849  I-BAL-SEMI-CYR-014               2                 Cyrus Villa              One Bedroom Villa with Private Pool and Bathtub       16767.759600                 NaN             NaN                         NaN                                              NaN                NaN                 NaN             NaN              NaN                                                    NaN                NaN\n"
          ]
        }
      ]
    }
  ]
}