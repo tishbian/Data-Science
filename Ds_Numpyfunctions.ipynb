{
  "nbformat": 4,
  "nbformat_minor": 0,
  "metadata": {
    "colab": {
      "provenance": [],
      "include_colab_link": true
    },
    "kernelspec": {
      "name": "python3",
      "display_name": "Python 3"
    },
    "language_info": {
      "name": "python"
    }
  },
  "cells": [
    {
      "cell_type": "markdown",
      "metadata": {
        "id": "view-in-github",
        "colab_type": "text"
      },
      "source": [
        "<a href=\"https://colab.research.google.com/github/tishbian/Data-Science/blob/main/Ds_Numpyfunctions.ipynb\" target=\"_parent\"><img src=\"https://colab.research.google.com/assets/colab-badge.svg\" alt=\"Open In Colab\"/></a>"
      ]
    },
    {
      "cell_type": "markdown",
      "source": [
        "##Creating Arrays"
      ],
      "metadata": {
        "id": "LBu4aV_RZydE"
      }
    },
    {
      "cell_type": "code",
      "execution_count": null,
      "metadata": {
        "id": "qsnfJTTtZe_e"
      },
      "outputs": [],
      "source": [
        "import numpy as np"
      ]
    },
    {
      "cell_type": "code",
      "source": [
        "ary = np.array([1,2,3,4,5])\n",
        "print(ary)"
      ],
      "metadata": {
        "colab": {
          "base_uri": "https://localhost:8080/"
        },
        "id": "3A29H87UZ8qU",
        "outputId": "537fac3c-234d-4cff-b999-64f0904e7041"
      },
      "execution_count": null,
      "outputs": [
        {
          "output_type": "stream",
          "name": "stdout",
          "text": [
            "[1 2 3 4 5]\n"
          ]
        }
      ]
    },
    {
      "cell_type": "markdown",
      "source": [
        "##Creating an array of zeroes"
      ],
      "metadata": {
        "id": "jYqyfDiQat3M"
      }
    },
    {
      "cell_type": "code",
      "source": [
        "ar = np.zeros(5)\n",
        "print (ar)"
      ],
      "metadata": {
        "colab": {
          "base_uri": "https://localhost:8080/"
        },
        "id": "04_cuax7azjK",
        "outputId": "8c8d90c4-f681-4146-8acf-6cce259ac939"
      },
      "execution_count": null,
      "outputs": [
        {
          "output_type": "stream",
          "name": "stdout",
          "text": [
            "[0. 0. 0. 0. 0.]\n"
          ]
        }
      ]
    },
    {
      "cell_type": "markdown",
      "source": [
        "##Creating an array using range function"
      ],
      "metadata": {
        "id": "iUOgDFZnbIaG"
      }
    },
    {
      "cell_type": "code",
      "source": [
        "ay = np.arange(1, 9)\n",
        "print (ay)"
      ],
      "metadata": {
        "colab": {
          "base_uri": "https://localhost:8080/"
        },
        "id": "T8yU1rtnbPZ5",
        "outputId": "0406050d-39ea-48f9-ec44-9089dd4d7d11"
      },
      "execution_count": null,
      "outputs": [
        {
          "output_type": "stream",
          "name": "stdout",
          "text": [
            "[1 2 3 4 5 6 7 8]\n"
          ]
        }
      ]
    },
    {
      "cell_type": "markdown",
      "source": [
        "##Creating an array of ones"
      ],
      "metadata": {
        "id": "otfw64dFbmDS"
      }
    },
    {
      "cell_type": "code",
      "source": [
        "an = np.ones(5)\n",
        "print(an)"
      ],
      "metadata": {
        "colab": {
          "base_uri": "https://localhost:8080/"
        },
        "id": "tgzkaSONbqwS",
        "outputId": "8b5b3e55-0717-4310-e46b-837f08673954"
      },
      "execution_count": null,
      "outputs": [
        {
          "output_type": "stream",
          "name": "stdout",
          "text": [
            "[1. 1. 1. 1. 1.]\n"
          ]
        }
      ]
    },
    {
      "cell_type": "markdown",
      "source": [
        "##Creating an array with evenly spaced values"
      ],
      "metadata": {
        "id": "Noyf4NLVcRNV"
      }
    },
    {
      "cell_type": "code",
      "source": [
        "Ap = np.linspace(3, 8)\n",
        "print (Ap)"
      ],
      "metadata": {
        "colab": {
          "base_uri": "https://localhost:8080/"
        },
        "id": "kOC8EfUMcmbS",
        "outputId": "f48836cc-dc85-4647-bc4b-7de3120685ca"
      },
      "execution_count": null,
      "outputs": [
        {
          "output_type": "stream",
          "name": "stdout",
          "text": [
            "[3.         3.10204082 3.20408163 3.30612245 3.40816327 3.51020408\n",
            " 3.6122449  3.71428571 3.81632653 3.91836735 4.02040816 4.12244898\n",
            " 4.2244898  4.32653061 4.42857143 4.53061224 4.63265306 4.73469388\n",
            " 4.83673469 4.93877551 5.04081633 5.14285714 5.24489796 5.34693878\n",
            " 5.44897959 5.55102041 5.65306122 5.75510204 5.85714286 5.95918367\n",
            " 6.06122449 6.16326531 6.26530612 6.36734694 6.46938776 6.57142857\n",
            " 6.67346939 6.7755102  6.87755102 6.97959184 7.08163265 7.18367347\n",
            " 7.28571429 7.3877551  7.48979592 7.59183673 7.69387755 7.79591837\n",
            " 7.89795918 8.        ]\n"
          ]
        }
      ]
    },
    {
      "cell_type": "markdown",
      "source": [
        "##Creating an Identity Matrix"
      ],
      "metadata": {
        "id": "5iGd1CMwcxVh"
      }
    },
    {
      "cell_type": "code",
      "source": [
        "matrix = np.eye (3,3)\n",
        "print (matrix)"
      ],
      "metadata": {
        "colab": {
          "base_uri": "https://localhost:8080/"
        },
        "id": "qoMszSredAEL",
        "outputId": "b84f5a19-d9e1-4d57-b791-89aa0ef6ab68"
      },
      "execution_count": null,
      "outputs": [
        {
          "output_type": "stream",
          "name": "stdout",
          "text": [
            "[[1. 0. 0.]\n",
            " [0. 1. 0.]\n",
            " [0. 0. 1.]]\n"
          ]
        }
      ]
    },
    {
      "cell_type": "markdown",
      "source": [
        "##Array Information"
      ],
      "metadata": {
        "id": "j8lO72wDdjBW"
      }
    },
    {
      "cell_type": "markdown",
      "source": [
        "###Returns the Shape of the matrix"
      ],
      "metadata": {
        "id": "VcXNTn4WeUkk"
      }
    },
    {
      "cell_type": "code",
      "source": [
        "matrix = np.eye(3,3)\n",
        "print (matrix)\n",
        "Shape_matrix = matrix.shape\n",
        "print(Shape_matrix)"
      ],
      "metadata": {
        "colab": {
          "base_uri": "https://localhost:8080/"
        },
        "id": "JsrQKmUmdpoF",
        "outputId": "3c6a78b9-09e7-41e1-fbd0-d2101b146821"
      },
      "execution_count": null,
      "outputs": [
        {
          "output_type": "stream",
          "name": "stdout",
          "text": [
            "[[1. 0. 0.]\n",
            " [0. 1. 0.]\n",
            " [0. 0. 1.]]\n",
            "(3, 3)\n"
          ]
        }
      ]
    },
    {
      "cell_type": "markdown",
      "source": [
        "###Returns the No of Dimensions"
      ],
      "metadata": {
        "id": "5yLFTzy9ewWY"
      }
    },
    {
      "cell_type": "code",
      "source": [
        "matrix = np.eye(3,3)\n",
        "print (matrix)\n",
        "No_dimension = matrix.ndim\n",
        "print(No_dimension)"
      ],
      "metadata": {
        "colab": {
          "base_uri": "https://localhost:8080/"
        },
        "id": "oHahc7A5eg2l",
        "outputId": "545371d9-0bba-499b-a6f3-4b3f1a9ca8f0"
      },
      "execution_count": null,
      "outputs": [
        {
          "output_type": "stream",
          "name": "stdout",
          "text": [
            "[[1. 0. 0.]\n",
            " [0. 1. 0.]\n",
            " [0. 0. 1.]]\n",
            "2\n"
          ]
        }
      ]
    },
    {
      "cell_type": "markdown",
      "source": [
        "###Returns the No of Elements in the Array"
      ],
      "metadata": {
        "id": "GV3_KOyMe23W"
      }
    },
    {
      "cell_type": "code",
      "source": [
        "matrix = np.eye(3,3)\n",
        "print (matrix)\n",
        "No_elements = matrix.size\n",
        "print(No_elements)"
      ],
      "metadata": {
        "colab": {
          "base_uri": "https://localhost:8080/"
        },
        "id": "i8jk02jmfHav",
        "outputId": "ebb12a19-d34c-434e-eae4-c3a799aaf22a"
      },
      "execution_count": null,
      "outputs": [
        {
          "output_type": "stream",
          "name": "stdout",
          "text": [
            "[[1. 0. 0.]\n",
            " [0. 1. 0.]\n",
            " [0. 0. 1.]]\n",
            "9\n"
          ]
        }
      ]
    },
    {
      "cell_type": "markdown",
      "source": [
        "###Returns the datatype of the elements"
      ],
      "metadata": {
        "id": "y72lASjTfeyJ"
      }
    },
    {
      "cell_type": "code",
      "source": [
        "matrix = np.eye(3,3)\n",
        "print (matrix)\n",
        "Data_type = matrix.dtype\n",
        "print(Data_type)"
      ],
      "metadata": {
        "colab": {
          "base_uri": "https://localhost:8080/"
        },
        "id": "uq5PCWqrf2K9",
        "outputId": "6c9f2034-ad0a-4d8f-8580-e88dfb197437"
      },
      "execution_count": null,
      "outputs": [
        {
          "output_type": "stream",
          "name": "stdout",
          "text": [
            "[[1. 0. 0.]\n",
            " [0. 1. 0.]\n",
            " [0. 0. 1.]]\n",
            "float64\n"
          ]
        }
      ]
    },
    {
      "cell_type": "markdown",
      "source": [
        "##Array Operations"
      ],
      "metadata": {
        "id": "7LuXKbd-gJtE"
      }
    },
    {
      "cell_type": "markdown",
      "source": [
        "###Elements wise Addition"
      ],
      "metadata": {
        "id": "pRSbsvghgNPf"
      }
    },
    {
      "cell_type": "code",
      "source": [
        "a = np.arange(1, 6)\n",
        "print(a)\n",
        "b = np.arange(2, 7)\n",
        "print(b)\n",
        "c = np.add(a, b)\n",
        "print(c)"
      ],
      "metadata": {
        "colab": {
          "base_uri": "https://localhost:8080/"
        },
        "id": "BvA9QwaBgbiD",
        "outputId": "8bc34a23-d106-47c3-b29f-6b65cbacf799"
      },
      "execution_count": null,
      "outputs": [
        {
          "output_type": "stream",
          "name": "stdout",
          "text": [
            "[1 2 3 4 5]\n",
            "[2 3 4 5 6]\n",
            "[ 3  5  7  9 11]\n"
          ]
        }
      ]
    },
    {
      "cell_type": "markdown",
      "source": [
        "###Element wise Subtraction"
      ],
      "metadata": {
        "id": "ekhq8XxnhMt7"
      }
    },
    {
      "cell_type": "code",
      "source": [
        "\n",
        "a = np.arange(1, 6)\n",
        "print(a)\n",
        "b = np.arange(2, 7)\n",
        "print(b)\n",
        "c = np.subtract(a, b)\n",
        "print(c)"
      ],
      "metadata": {
        "colab": {
          "base_uri": "https://localhost:8080/"
        },
        "id": "AYtzyEVRhSoQ",
        "outputId": "cc43514e-6d0b-4b9b-d6a4-1da7281e6b59"
      },
      "execution_count": null,
      "outputs": [
        {
          "output_type": "stream",
          "name": "stdout",
          "text": [
            "[1 2 3 4 5]\n",
            "[2 3 4 5 6]\n",
            "[-1 -1 -1 -1 -1]\n"
          ]
        }
      ]
    },
    {
      "cell_type": "markdown",
      "source": [
        "###Element wise Multiplication"
      ],
      "metadata": {
        "id": "IyZLkl4LhhOe"
      }
    },
    {
      "cell_type": "code",
      "source": [
        "\n",
        "a = np.arange(1, 6)\n",
        "print(a)\n",
        "b = np.arange(2, 7)\n",
        "print(b)\n",
        "c = np.multiply(a, b)\n",
        "print(c)"
      ],
      "metadata": {
        "colab": {
          "base_uri": "https://localhost:8080/"
        },
        "id": "MV3fJvAchmX2",
        "outputId": "c216092c-969b-4359-96f7-a243d3065479"
      },
      "execution_count": null,
      "outputs": [
        {
          "output_type": "stream",
          "name": "stdout",
          "text": [
            "[1 2 3 4 5]\n",
            "[2 3 4 5 6]\n",
            "[ 2  6 12 20 30]\n"
          ]
        }
      ]
    },
    {
      "cell_type": "markdown",
      "source": [
        "###Element wise Division"
      ],
      "metadata": {
        "id": "TtrpjjzlhqKQ"
      }
    },
    {
      "cell_type": "code",
      "source": [
        "\n",
        "a = np.arange(1, 6)\n",
        "print(a)\n",
        "b = np.arange(1, 6)\n",
        "print(b)\n",
        "c = np.divide(a, b)\n",
        "print(c)"
      ],
      "metadata": {
        "colab": {
          "base_uri": "https://localhost:8080/"
        },
        "id": "POdvBJPShuwE",
        "outputId": "d7afa284-0c02-45ea-d6ab-10cbe17ed00d"
      },
      "execution_count": null,
      "outputs": [
        {
          "output_type": "stream",
          "name": "stdout",
          "text": [
            "[1 2 3 4 5]\n",
            "[1 2 3 4 5]\n",
            "[1. 1. 1. 1. 1.]\n"
          ]
        }
      ]
    },
    {
      "cell_type": "markdown",
      "source": [
        "###Dot Products of two Arrays"
      ],
      "metadata": {
        "id": "vXgdKWNIh53a"
      }
    },
    {
      "cell_type": "code",
      "source": [
        "\n",
        "a = np.arange(1, 6)\n",
        "print(a)\n",
        "b = np.arange(2, 7)\n",
        "print(b)\n",
        "c = np.dot(a, b)\n",
        "print(c)"
      ],
      "metadata": {
        "colab": {
          "base_uri": "https://localhost:8080/"
        },
        "id": "j8kFAEa0h-de",
        "outputId": "59d1386d-dfd0-4fa7-bdf2-6333bff8e913"
      },
      "execution_count": null,
      "outputs": [
        {
          "output_type": "stream",
          "name": "stdout",
          "text": [
            "[1 2 3 4 5]\n",
            "[2 3 4 5 6]\n",
            "70\n"
          ]
        }
      ]
    },
    {
      "cell_type": "markdown",
      "source": [
        "##Array Manipulation"
      ],
      "metadata": {
        "id": "aR2lNHjWiSND"
      }
    },
    {
      "cell_type": "markdown",
      "source": [
        "###Reshape an Array"
      ],
      "metadata": {
        "id": "HIpoEpodiWCX"
      }
    },
    {
      "cell_type": "code",
      "source": [
        "matrix = np.arange(1, 10).reshape(3, 3)\n",
        "print(matrix)"
      ],
      "metadata": {
        "colab": {
          "base_uri": "https://localhost:8080/"
        },
        "id": "mneM3YiOibo4",
        "outputId": "94a5c7f2-7c7e-4e30-af46-c60d3e83e547"
      },
      "execution_count": null,
      "outputs": [
        {
          "output_type": "stream",
          "name": "stdout",
          "text": [
            "[[1 2 3]\n",
            " [4 5 6]\n",
            " [7 8 9]]\n"
          ]
        }
      ]
    },
    {
      "cell_type": "markdown",
      "source": [
        "###Concatenate of two arrays"
      ],
      "metadata": {
        "id": "vUI6w2_ukc5B"
      }
    },
    {
      "cell_type": "code",
      "source": [
        "\n",
        "a = np.arange(1, 6)\n",
        "print(a)\n",
        "b = np.arange(2, 7)\n",
        "print(b)\n",
        "c = np.concatenate((a, b))\n",
        "print(c)"
      ],
      "metadata": {
        "colab": {
          "base_uri": "https://localhost:8080/"
        },
        "id": "cN86WLX9kUXk",
        "outputId": "4c00f129-e4be-48e7-d53e-e80d7a13619d"
      },
      "execution_count": null,
      "outputs": [
        {
          "output_type": "stream",
          "name": "stdout",
          "text": [
            "[1 2 3 4 5]\n",
            "[2 3 4 5 6]\n",
            "[1 2 3 4 5 2 3 4 5 6]\n"
          ]
        }
      ]
    },
    {
      "cell_type": "markdown",
      "source": [
        "###Split an array into two sub arrays"
      ],
      "metadata": {
        "id": "jusGYdxboX4O"
      }
    },
    {
      "cell_type": "code",
      "source": [
        "\n",
        "a = np.arange(1, 6)\n",
        "print(a)\n",
        "b = np.arange(2, 7)\n",
        "print(b)\n",
        "c = np.concatenate((a, b))\n",
        "print(c)\n",
        "split_array = np.split(c, 2)\n",
        "print(split_array)"
      ],
      "metadata": {
        "colab": {
          "base_uri": "https://localhost:8080/"
        },
        "id": "KdYNHgIhoeOi",
        "outputId": "51fe2d51-862c-45f8-af65-69ad359c1412"
      },
      "execution_count": null,
      "outputs": [
        {
          "output_type": "stream",
          "name": "stdout",
          "text": [
            "[1 2 3 4 5]\n",
            "[2 3 4 5 6]\n",
            "[1 2 3 4 5 2 3 4 5 6]\n",
            "[array([1, 2, 3, 4, 5]), array([2, 3, 4, 5, 6])]\n"
          ]
        }
      ]
    },
    {
      "cell_type": "markdown",
      "source": [
        "###Transpose an Array"
      ],
      "metadata": {
        "id": "7bHOPfqDrAtj"
      }
    },
    {
      "cell_type": "code",
      "source": [
        "matrix = np.arange(1, 10).reshape(3, 3)\n",
        "print(matrix)\n",
        "tran_matrix = np.transpose(matrix)\n",
        "print(tran_matrix)"
      ],
      "metadata": {
        "colab": {
          "base_uri": "https://localhost:8080/"
        },
        "id": "x9xa-8MQqjTO",
        "outputId": "7f5dd471-2dfe-44f4-d971-da2a18138b76"
      },
      "execution_count": null,
      "outputs": [
        {
          "output_type": "stream",
          "name": "stdout",
          "text": [
            "[[1 2 3]\n",
            " [4 5 6]\n",
            " [7 8 9]]\n",
            "[[1 4 7]\n",
            " [2 5 8]\n",
            " [3 6 9]]\n"
          ]
        }
      ]
    },
    {
      "cell_type": "markdown",
      "source": [
        "##Trignometric Functions"
      ],
      "metadata": {
        "id": "UEQ8TNK3hreC"
      }
    },
    {
      "cell_type": "code",
      "source": [
        "import math"
      ],
      "metadata": {
        "id": "c9-1ahVlkGyv"
      },
      "execution_count": null,
      "outputs": []
    },
    {
      "cell_type": "markdown",
      "source": [
        "###Sine Function"
      ],
      "metadata": {
        "id": "pseWCAAlh4vg"
      }
    },
    {
      "cell_type": "code",
      "source": [
        "sin_value = math.sin(math.radians(30))\n",
        "print(\"Sine:\", sin_value)"
      ],
      "metadata": {
        "colab": {
          "base_uri": "https://localhost:8080/"
        },
        "id": "4ycsnt8ciB7c",
        "outputId": "46f2c96e-8475-4eda-d08d-d41c80ccd6fa"
      },
      "execution_count": null,
      "outputs": [
        {
          "output_type": "stream",
          "name": "stdout",
          "text": [
            "Sine: 0.49999999999999994\n"
          ]
        }
      ]
    },
    {
      "cell_type": "markdown",
      "source": [
        "###Cosine Function"
      ],
      "metadata": {
        "id": "CM0zehk_iLLM"
      }
    },
    {
      "cell_type": "code",
      "source": [
        "cos_value = math.cos(math.radians(60))  # math.cos takes radians, so convert degrees to radians\n",
        "print(\"Cosine:\", cos_value)"
      ],
      "metadata": {
        "colab": {
          "base_uri": "https://localhost:8080/"
        },
        "id": "S7DQB35ZiO6O",
        "outputId": "7d78e6fa-ba8e-4665-88e0-297f6021c1d2"
      },
      "execution_count": null,
      "outputs": [
        {
          "output_type": "stream",
          "name": "stdout",
          "text": [
            "Cosine: 0.5000000000000001\n"
          ]
        }
      ]
    },
    {
      "cell_type": "markdown",
      "source": [
        "##Tanget Function"
      ],
      "metadata": {
        "id": "BVxWliXTieBr"
      }
    },
    {
      "cell_type": "code",
      "source": [
        "tan_value = math.tan(math.radians(45))  # math.tan takes radians, so convert degrees to radians\n",
        "print(\"Tangent:\", tan_value)"
      ],
      "metadata": {
        "colab": {
          "base_uri": "https://localhost:8080/"
        },
        "id": "xdWuxystiiy4",
        "outputId": "316baaf9-34a6-4994-a6f2-2e30fbd6241b"
      },
      "execution_count": null,
      "outputs": [
        {
          "output_type": "stream",
          "name": "stdout",
          "text": [
            "Tangent: 0.9999999999999999\n"
          ]
        }
      ]
    },
    {
      "cell_type": "markdown",
      "source": [
        "##Arcsine Function"
      ],
      "metadata": {
        "id": "l0mpZyi0ijKD"
      }
    },
    {
      "cell_type": "code",
      "source": [
        "asin_value = math.degrees(math.asin(0.5))  # math.asin returns radians, so convert radians to degrees\n",
        "print(\"Arcsine:\", asin_value)"
      ],
      "metadata": {
        "colab": {
          "base_uri": "https://localhost:8080/"
        },
        "id": "RZa4gb1DiwOH",
        "outputId": "a1c1fd35-df7b-4056-82da-7767fe0ed014"
      },
      "execution_count": null,
      "outputs": [
        {
          "output_type": "stream",
          "name": "stdout",
          "text": [
            "Arcsine: 30.000000000000004\n"
          ]
        }
      ]
    },
    {
      "cell_type": "markdown",
      "source": [
        "##Arccosine Function"
      ],
      "metadata": {
        "id": "g5fPinYqixa0"
      }
    },
    {
      "cell_type": "code",
      "source": [
        "acos_value = math.degrees(math.acos(0.5))  # math.acos returns radians, so convert radians to degrees\n",
        "print(\"Arccosine:\", acos_value)"
      ],
      "metadata": {
        "colab": {
          "base_uri": "https://localhost:8080/"
        },
        "id": "NBNg8_7Ni6JF",
        "outputId": "cbcbebea-8d0d-4a5f-e2c3-af334549a98e"
      },
      "execution_count": null,
      "outputs": [
        {
          "output_type": "stream",
          "name": "stdout",
          "text": [
            "Arccosine: 60.00000000000001\n"
          ]
        }
      ]
    },
    {
      "cell_type": "markdown",
      "source": [
        "##Arctanget Function"
      ],
      "metadata": {
        "id": "1GmamcoMi6bI"
      }
    },
    {
      "cell_type": "code",
      "source": [
        "atan_value = math.degrees(math.atan(1))  # math.atan returns radians, so convert radians to degrees\n",
        "print(\"Arctangent:\", atan_value)"
      ],
      "metadata": {
        "colab": {
          "base_uri": "https://localhost:8080/"
        },
        "id": "KnIMLMvcjABj",
        "outputId": "98b4ceb4-55c4-4848-ab82-1cdfe581fce7"
      },
      "execution_count": null,
      "outputs": [
        {
          "output_type": "stream",
          "name": "stdout",
          "text": [
            "Arctangent: 45.0\n"
          ]
        }
      ]
    },
    {
      "cell_type": "markdown",
      "source": [
        "###Inverse Trignometric function"
      ],
      "metadata": {
        "id": "jPmPM9A-kaei"
      }
    },
    {
      "cell_type": "code",
      "source": [
        "\n",
        "# Example values\n",
        "x = 0.5\n",
        "\n",
        "# arcsine (inverse sine)\n",
        "arcsine_result = math.asin(x)\n",
        "print(f'arcsin({x}) = {math.degrees(arcsine_result)} degrees')  # Convert radians to degrees for better readability\n",
        "\n",
        "# arccosine (inverse cosine)\n",
        "arccosine_result = math.acos(x)\n",
        "print(f'arccos({x}) = {math.degrees(arccosine_result)} degrees')\n",
        "\n",
        "# arctangent (inverse tangent)\n",
        "arctangent_result = math.atan(x)\n",
        "print(f'arctan({x}) = {math.degrees(arctangent_result)} degrees')"
      ],
      "metadata": {
        "colab": {
          "base_uri": "https://localhost:8080/"
        },
        "id": "4o6RI8VAlH_c",
        "outputId": "19a95066-7da5-4c22-e879-4dfa42b6ce5a"
      },
      "execution_count": null,
      "outputs": [
        {
          "output_type": "stream",
          "name": "stdout",
          "text": [
            "arcsin(0.5) = 30.000000000000004 degrees\n",
            "arccos(0.5) = 60.00000000000001 degrees\n",
            "arctan(0.5) = 26.56505117707799 degrees\n"
          ]
        }
      ]
    },
    {
      "cell_type": "markdown",
      "source": [
        "###Mathematical Functions"
      ],
      "metadata": {
        "id": "WJ5Iv2lJlngA"
      }
    },
    {
      "cell_type": "markdown",
      "source": [
        "###Sum of Arry Elements"
      ],
      "metadata": {
        "id": "FyKJoqK-lytp"
      }
    },
    {
      "cell_type": "code",
      "source": [
        "# Example array\n",
        "my_array = [1, 2, 3, 4, 5]\n",
        "array_sum = sum(my_array)\n",
        "print(f\"Sum of array elements: {array_sum}\")"
      ],
      "metadata": {
        "colab": {
          "base_uri": "https://localhost:8080/"
        },
        "id": "AnaKaKvsmGLm",
        "outputId": "522ea46c-0688-4449-a77f-2fadaf420843"
      },
      "execution_count": null,
      "outputs": [
        {
          "output_type": "stream",
          "name": "stdout",
          "text": [
            "Sum of array elements: 15\n"
          ]
        }
      ]
    },
    {
      "cell_type": "markdown",
      "source": [
        "###Mean of Array Elements"
      ],
      "metadata": {
        "id": "qe6Zk450mGmh"
      }
    },
    {
      "cell_type": "code",
      "source": [
        "import numpy as np\n",
        "my_array = [1, 2, 3, 4, 5]\n",
        "array_mean = np.mean(my_array)\n",
        "print(f\"Mean of array elements: {array_mean}\")"
      ],
      "metadata": {
        "colab": {
          "base_uri": "https://localhost:8080/"
        },
        "id": "ntlPdNuzmMLV",
        "outputId": "a4cc6c00-78b6-4cad-b223-1682541e075d"
      },
      "execution_count": null,
      "outputs": [
        {
          "output_type": "stream",
          "name": "stdout",
          "text": [
            "Mean of array elements: 3.0\n"
          ]
        }
      ]
    },
    {
      "cell_type": "markdown",
      "source": [
        "###Median of Array Elements"
      ],
      "metadata": {
        "id": "stlI3W8DmMe9"
      }
    },
    {
      "cell_type": "code",
      "source": [
        "\n",
        "my_array = [1, 2, 3, 4, 5]\n",
        "array_median = np.median(my_array)\n",
        "print(f\"Median of array elements: {array_median}\")"
      ],
      "metadata": {
        "colab": {
          "base_uri": "https://localhost:8080/"
        },
        "id": "U2ugSsQvmXsU",
        "outputId": "61979a0f-98ca-4ad9-de22-e59df4f875d7"
      },
      "execution_count": null,
      "outputs": [
        {
          "output_type": "stream",
          "name": "stdout",
          "text": [
            "Median of array elements: 3.0\n"
          ]
        }
      ]
    },
    {
      "cell_type": "markdown",
      "source": [
        "###Standard Deviation"
      ],
      "metadata": {
        "id": "rPg9d6sRmYDm"
      }
    },
    {
      "cell_type": "code",
      "source": [
        "\n",
        "my_array = [1, 2, 3, 4, 5]\n",
        "array_std = np.std(my_array)\n",
        "print(f\"Standard deviation of array elements: {array_std}\")"
      ],
      "metadata": {
        "colab": {
          "base_uri": "https://localhost:8080/"
        },
        "id": "LvtcyKrLmeii",
        "outputId": "77174d4f-ffa2-42f9-bcf7-be03a970d710"
      },
      "execution_count": null,
      "outputs": [
        {
          "output_type": "stream",
          "name": "stdout",
          "text": [
            "Standard deviation of array elements: 1.4142135623730951\n"
          ]
        }
      ]
    },
    {
      "cell_type": "markdown",
      "source": [
        "###Minimum and Maximum Values"
      ],
      "metadata": {
        "id": "BVNLCH5xmkKp"
      }
    },
    {
      "cell_type": "code",
      "source": [
        "\n",
        "my_array = [1, 2, 3, 4, 5]\n",
        "array_min = min(my_array)\n",
        "array_max = max(my_array)\n",
        "print(f\"Minimum value: {array_min}\")\n",
        "print(f\"Maximum value: {array_max}\")"
      ],
      "metadata": {
        "colab": {
          "base_uri": "https://localhost:8080/"
        },
        "id": "yYjNe91wmwR0",
        "outputId": "c659a50c-46dd-4d7c-8082-1ca8887ea251"
      },
      "execution_count": null,
      "outputs": [
        {
          "output_type": "stream",
          "name": "stdout",
          "text": [
            "Minimum value: 1\n",
            "Maximum value: 5\n"
          ]
        }
      ]
    },
    {
      "cell_type": "markdown",
      "source": [
        "##Statical Function"
      ],
      "metadata": {
        "id": "Te1ktaRnpixt"
      }
    },
    {
      "cell_type": "markdown",
      "source": [
        "###Random integer"
      ],
      "metadata": {
        "id": "uBeApbL_pnlm"
      }
    },
    {
      "cell_type": "code",
      "source": [
        "\n",
        "import random\n",
        "random_integer = random.randint(1, 10)  # Generates a random integer between 1 and 10 (inclusive)\n",
        "print (random_integer)"
      ],
      "metadata": {
        "colab": {
          "base_uri": "https://localhost:8080/"
        },
        "id": "TzFo12AmpoDX",
        "outputId": "231ff4ca-7a36-4763-cfa9-8d7414c70210"
      },
      "execution_count": null,
      "outputs": [
        {
          "output_type": "stream",
          "name": "stdout",
          "text": [
            "5\n"
          ]
        }
      ]
    },
    {
      "cell_type": "markdown",
      "source": [
        "###Random Shuffle"
      ],
      "metadata": {
        "id": "In0WeGNQpoby"
      }
    },
    {
      "cell_type": "code",
      "source": [
        "import random\n",
        "my_list = [1, 2, 3, 4, 5]\n",
        "random.shuffle(my_list)  # Shuffles the list in-place\n",
        "print (my_list)"
      ],
      "metadata": {
        "colab": {
          "base_uri": "https://localhost:8080/"
        },
        "id": "60ZFs8eZpozN",
        "outputId": "131b5e29-aa16-488d-916e-2b85ad3c23fc"
      },
      "execution_count": null,
      "outputs": [
        {
          "output_type": "stream",
          "name": "stdout",
          "text": [
            "[4, 1, 5, 3, 2]\n"
          ]
        }
      ]
    },
    {
      "cell_type": "markdown",
      "source": [
        "###Random values in a given shape"
      ],
      "metadata": {
        "id": "8495M1tTrNre"
      }
    },
    {
      "cell_type": "code",
      "source": [
        "\n",
        "import numpy as np\n",
        "\n",
        "# Set a seed for reproducibility (optional)\n",
        "np.random.seed(42)\n",
        "\n",
        "# Specify the shape of the array\n",
        "shape = (3, 4)  # Example: 3 rows, 4 columns\n",
        "\n",
        "# Generate random values in the specified shape\n",
        "random_array = np.random.rand(*shape)  # For values between 0 and 1\n",
        "# Or you can use np.random.randint for integer values: random_array = np.random.randint(1, 10, size=shape)\n",
        "\n",
        "# Print the result\n",
        "print(\"Random Array:\")\n",
        "print(random_array)"
      ],
      "metadata": {
        "colab": {
          "base_uri": "https://localhost:8080/"
        },
        "id": "tGFup2XhrVq1",
        "outputId": "d89e1d88-f901-4c21-bb1f-138ac9d21455"
      },
      "execution_count": null,
      "outputs": [
        {
          "output_type": "stream",
          "name": "stdout",
          "text": [
            "Random Array:\n",
            "[[0.37454012 0.95071431 0.73199394 0.59865848]\n",
            " [0.15601864 0.15599452 0.05808361 0.86617615]\n",
            " [0.60111501 0.70807258 0.02058449 0.96990985]]\n"
          ]
        }
      ]
    },
    {
      "cell_type": "markdown",
      "source": [
        "###Random Values in a normal distribution"
      ],
      "metadata": {
        "id": "RWXHyN09raT9"
      }
    },
    {
      "cell_type": "code",
      "source": [
        "\n",
        "import random\n",
        "mean = 0\n",
        "std_dev = 1\n",
        "random_gaussian = random.gauss(mean, std_dev)  # Generates a random number from a Gaussian distribution\n",
        "print(random_gaussian)"
      ],
      "metadata": {
        "colab": {
          "base_uri": "https://localhost:8080/"
        },
        "id": "mp-S80Oxrauq",
        "outputId": "ec2c00e3-a0f0-4527-b0ba-a9feb5d4287e"
      },
      "execution_count": null,
      "outputs": [
        {
          "output_type": "stream",
          "name": "stdout",
          "text": [
            "0.9442272210501224\n"
          ]
        }
      ]
    },
    {
      "cell_type": "markdown",
      "source": [
        "###Logical Operators:\n",
        "\n",
        "AND: and\n",
        "OR: or\n",
        "NOT: not"
      ],
      "metadata": {
        "id": "Tb0VbWZesoFF"
      }
    },
    {
      "cell_type": "code",
      "source": [
        "a = True\n",
        "b = False\n",
        "print(a and b)  # False\n",
        "print(a or b)   # True\n",
        "print(not a)    # False"
      ],
      "metadata": {
        "colab": {
          "base_uri": "https://localhost:8080/"
        },
        "id": "rBC6ys1csvim",
        "outputId": "9f3a46fc-f2b1-4c12-97a3-bafa96848d6b"
      },
      "execution_count": null,
      "outputs": [
        {
          "output_type": "stream",
          "name": "stdout",
          "text": [
            "False\n",
            "True\n",
            "False\n"
          ]
        }
      ]
    },
    {
      "cell_type": "markdown",
      "source": [
        "##Linear Algebra"
      ],
      "metadata": {
        "id": "Xa5TO6DBs1i6"
      }
    },
    {
      "cell_type": "markdown",
      "source": [
        "##Matrix inversion"
      ],
      "metadata": {
        "id": "pOnQm6mHtaBQ"
      }
    },
    {
      "cell_type": "code",
      "source": [
        "\n",
        "import numpy as np\n",
        "\n",
        "# Create a vector\n",
        "vector = np.array([1, 2, 3])\n",
        "\n",
        "# Create a matrix\n",
        "matrix = np.array([[1, 2, 3], [4, 5, 6], [7, 8, 9]])\n",
        "print(matrix)\n",
        "print(vector)"
      ],
      "metadata": {
        "colab": {
          "base_uri": "https://localhost:8080/"
        },
        "id": "XmyibuJjtnnL",
        "outputId": "b03692d6-af92-40a4-ab1d-8e817ed5213d"
      },
      "execution_count": null,
      "outputs": [
        {
          "output_type": "stream",
          "name": "stdout",
          "text": [
            "[[1 2 3]\n",
            " [4 5 6]\n",
            " [7 8 9]]\n",
            "[1 2 3]\n"
          ]
        }
      ]
    },
    {
      "cell_type": "code",
      "source": [
        "import numpy as np\n",
        "\n",
        "def inverse_matrix(matrix):\n",
        "    try:\n",
        "        # Use numpy's linear algebra module to calculate the inverse\n",
        "        inv_matrix = np.linalg.inv(matrix)\n",
        "        return inv_matrix\n",
        "    except np.linalg.LinAlgError:\n",
        "        # Handle the case where the matrix is singular or not square\n",
        "        print(\"Matrix inversion is not possible for the given matrix.\")\n",
        "\n",
        "# Example usage:\n",
        "matrix_to_invert = np.array([[1, 2], [3, 4]])\n",
        "result = inverse_matrix(matrix_to_invert)\n",
        "\n",
        "if result is not None:\n",
        "    print(\"Original Matrix:\")\n",
        "    print(matrix_to_invert)\n",
        "    print(\"\\nInverse Matrix:\")\n",
        "    print(result)\n"
      ],
      "metadata": {
        "colab": {
          "base_uri": "https://localhost:8080/"
        },
        "id": "MP94X-_Js14g",
        "outputId": "b9b1500d-606f-4403-d4e3-49ae9bb6441c"
      },
      "execution_count": null,
      "outputs": [
        {
          "output_type": "stream",
          "name": "stdout",
          "text": [
            "Original Matrix:\n",
            "[[1 2]\n",
            " [3 4]]\n",
            "\n",
            "Inverse Matrix:\n",
            "[[-2.   1. ]\n",
            " [ 1.5 -0.5]]\n"
          ]
        }
      ]
    },
    {
      "cell_type": "markdown",
      "source": [
        "###Determinant of Matrix"
      ],
      "metadata": {
        "id": "WAv6wOwDJsIb"
      }
    },
    {
      "cell_type": "code",
      "source": [
        "import numpy as np\n",
        "\n",
        "# Example matrix\n",
        "matrix = np.array([[1, 2],\n",
        "                   [3, 4]])\n",
        "\n",
        "# Calculate the determinant\n",
        "determinant_value = np.linalg.det(matrix)\n",
        "\n",
        "# Display the determinant\n",
        "print(\"Matrix:\")\n",
        "print(matrix)\n",
        "print(\"Determinant:\", determinant_value)\n"
      ],
      "metadata": {
        "colab": {
          "base_uri": "https://localhost:8080/"
        },
        "id": "RRX4RXsXJu3D",
        "outputId": "f65986a8-53fb-49ce-e909-7e20b6a8fda2"
      },
      "execution_count": null,
      "outputs": [
        {
          "output_type": "stream",
          "name": "stdout",
          "text": [
            "Matrix:\n",
            "[[1 2]\n",
            " [3 4]]\n",
            "Determinant: -2.0000000000000004\n"
          ]
        }
      ]
    },
    {
      "cell_type": "markdown",
      "source": [
        "##Eigen Values and Eigen Vector"
      ],
      "metadata": {
        "id": "UhtqG0KnJ4iU"
      }
    },
    {
      "cell_type": "code",
      "source": [
        "import numpy as np\n",
        "\n",
        "# Example matrix\n",
        "matrix = np.array([[4, -2],\n",
        "                   [1,  1]])\n",
        "\n",
        "# Calculate eigenvalues and eigenvectors\n",
        "eigenvalues, eigenvectors = np.linalg.eig(matrix)\n",
        "\n",
        "# Display the results\n",
        "print(\"Matrix:\")\n",
        "print(matrix)\n",
        "print(\"Eigenvalues:\", eigenvalues)\n",
        "print(\"Eigenvectors:\")\n",
        "print(eigenvectors)\n"
      ],
      "metadata": {
        "colab": {
          "base_uri": "https://localhost:8080/"
        },
        "id": "6IZZu5l_Kl87",
        "outputId": "a97214f5-dbf1-4d99-d915-88f17884122d"
      },
      "execution_count": null,
      "outputs": [
        {
          "output_type": "stream",
          "name": "stdout",
          "text": [
            "Matrix:\n",
            "[[ 4 -2]\n",
            " [ 1  1]]\n",
            "Eigenvalues: [3. 2.]\n",
            "Eigenvectors:\n",
            "[[0.89442719 0.70710678]\n",
            " [0.4472136  0.70710678]]\n"
          ]
        }
      ]
    },
    {
      "cell_type": "markdown",
      "source": [
        "##Sorting"
      ],
      "metadata": {
        "id": "ydbi_dxjIn1Q"
      }
    },
    {
      "cell_type": "markdown",
      "source": [
        "###Sort an Array"
      ],
      "metadata": {
        "id": "ZfjeRpNyIz3n"
      }
    },
    {
      "cell_type": "code",
      "source": [
        "# Example array\n",
        "my_array = [4, 2, 8, 1, 7]\n",
        "\n",
        "# Using sort() method to sort the array in-place\n",
        "my_array.sort()\n",
        "\n",
        "# Display the sorted array\n",
        "print(\"Sorted Array:\", my_array)\n"
      ],
      "metadata": {
        "colab": {
          "base_uri": "https://localhost:8080/"
        },
        "id": "3ilYPaAcIxA_",
        "outputId": "d61466df-06cf-4a8e-d23a-8b620f7ad660"
      },
      "execution_count": null,
      "outputs": [
        {
          "output_type": "stream",
          "name": "stdout",
          "text": [
            "Sorted Array: [1, 2, 4, 7, 8]\n"
          ]
        }
      ]
    },
    {
      "cell_type": "markdown",
      "source": [
        "###Save an Array to a Binary File"
      ],
      "metadata": {
        "id": "sltf-iRoI1Hc"
      }
    },
    {
      "cell_type": "code",
      "source": [
        "import numpy as np\n",
        "\n",
        "# Example array\n",
        "my_array = np.array([1, 2, 3, 4, 5])\n",
        "\n",
        "# Save the array to a binary file\n",
        "np.save(\"my_array.npy\", my_array)\n",
        "# Load the array from the binary file\n",
        "loaded_array = np.load(\"my_array.npy\")\n",
        "\n",
        "# Display the loaded array\n",
        "print(\"Loaded Array:\", loaded_array)\n",
        "# Save multiple arrays to a single binary file\n",
        "np.savez(\"my_arrays.npz\", array1=my_array, array2=loaded_array)\n",
        "\n",
        "# Load the arrays back from the binary file\n",
        "loaded_data = np.load(\"my_arrays.npz\")\n",
        "\n",
        "# Access individual arrays using keys\n",
        "array1 = loaded_data['array1']\n",
        "array2 = loaded_data['array2']\n",
        "\n",
        "# Display the loaded arrays\n",
        "print(\"Loaded Array 1:\", array1)\n",
        "print(\"Loaded Array 2:\", array2)\n"
      ],
      "metadata": {
        "colab": {
          "base_uri": "https://localhost:8080/"
        },
        "id": "1DLUkxOuI2XL",
        "outputId": "2bda9adb-3c86-4a0c-d5ee-1d21925be058"
      },
      "execution_count": null,
      "outputs": [
        {
          "output_type": "stream",
          "name": "stdout",
          "text": [
            "Loaded Array: [1 2 3 4 5]\n",
            "Loaded Array 1: [1 2 3 4 5]\n",
            "Loaded Array 2: [1 2 3 4 5]\n"
          ]
        }
      ]
    },
    {
      "cell_type": "markdown",
      "source": [
        "###Load an Array from a Binary File"
      ],
      "metadata": {
        "id": "gNSrBl97I23r"
      }
    },
    {
      "cell_type": "code",
      "source": [
        "import numpy as np\n",
        "\n",
        "# Load the array from the binary file\n",
        "loaded_array = np.load(\"my_array.npy\")\n",
        "\n",
        "# Display the loaded array\n",
        "print(\"Loaded Array:\", loaded_array)\n",
        "# Load multiple arrays from a single binary file\n",
        "loaded_data = np.load(\"my_arrays.npz\")\n",
        "\n",
        "# Access individual arrays using keys\n",
        "array1 = loaded_data['array1']\n",
        "array2 = loaded_data['array2']\n",
        "\n",
        "# Display the loaded arrays\n",
        "print(\"Loaded Array 1:\", array1)\n",
        "print(\"Loaded Array 2:\", array2)\n"
      ],
      "metadata": {
        "colab": {
          "base_uri": "https://localhost:8080/"
        },
        "id": "nMAcSoK6I3dA",
        "outputId": "f924ff19-100e-49c8-c2a7-ade23482e9dc"
      },
      "execution_count": null,
      "outputs": [
        {
          "output_type": "stream",
          "name": "stdout",
          "text": [
            "Loaded Array: [1 2 3 4 5]\n",
            "Loaded Array 1: [1 2 3 4 5]\n",
            "Loaded Array 2: [1 2 3 4 5]\n"
          ]
        }
      ]
    }
  ]
}